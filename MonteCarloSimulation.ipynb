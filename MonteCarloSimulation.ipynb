{
 "cells": [
  {
   "cell_type": "markdown",
   "source": [
    "# Monte Carlo Simulation"
   ],
   "metadata": {
    "collapsed": false
   },
   "id": "50803bdc6797976a"
  },
  {
   "cell_type": "markdown",
   "source": [
    "The Monte Carlo Simulation is used to model the probability of different outcomes in a process that cannot be easily predicted. It involves repeated sampling to obtain results.They are used to predict situations where processes where \n",
    "random variables could affect the outcome. This can then be used to further the risk involved in such a process. It can be deduced herein that this technique could be useful for the estimation of \n",
    "stochastic processes. It is a widely implemented approach and can be used to explain biological,physical or even chemical systems. An example of this can be seen from the [article](https://www.sciencedirect.com/science/article/pii/S0378437121002867) where a Monte Carlo Simulation was used to explain the proximity based infection of the COVID-19 Virus. In this case, I will be looking to explore how to use this technique to simulate a stock portfolio value over a certain period "
   ],
   "metadata": {
    "collapsed": false
   },
   "id": "a8d5dea4bc5df952"
  },
  {
   "cell_type": "markdown",
   "source": [
    "The stocks to be simulated are MatterPort Inc ([MTTR](https://finance.yahoo.com/quote/MTTR)) ,Palantir Technologies ([PLTR](https://finance.yahoo.com/quote/PLTR)) Persimmon Plc ([PSN.L](https://finance.yahoo.com/quote/PSN.L))\n",
    "\n"
   ],
   "metadata": {
    "collapsed": false
   },
   "id": "52d3f3363bf1f94f"
  },
  {
   "cell_type": "markdown",
   "source": [
    "## Importing the libraries"
   ],
   "metadata": {
    "collapsed": false
   },
   "id": "380972132f0e332e"
  },
  {
   "cell_type": "code",
   "execution_count": 36,
   "outputs": [],
   "source": [
    "\n",
    "import yfinance as yf\n",
    "import datetime as dt\n"
   ],
   "metadata": {
    "collapsed": false,
    "ExecuteTime": {
     "end_time": "2023-08-07T22:57:28.916855Z",
     "start_time": "2023-08-07T22:57:28.908750Z"
    }
   },
   "id": "7e93074b73a25ac0"
  },
  {
   "cell_type": "markdown",
   "source": [
    "## Get the data from the Yahoo Finance API"
   ],
   "metadata": {
    "collapsed": false
   },
   "id": "1c0c737f414ca3ca"
  },
  {
   "cell_type": "code",
   "execution_count": 37,
   "outputs": [
    {
     "name": "stdout",
     "output_type": "stream",
     "text": [
      "[*********************100%***********************]  3 of 3 completed\n",
      "           MTTR      PLTR     PSN.L\n",
      "MTTR   0.001429  0.000712  0.000096\n",
      "PLTR   0.000712  0.002386  0.000067\n",
      "PSN.L  0.000096  0.000067  0.000450\n",
      "MTTR     0.005895\n",
      "PLTR     0.013328\n",
      "PSN.L   -0.002622\n",
      "dtype: float64            MTTR      PLTR     PSN.L\n",
      "MTTR   0.001429  0.000712  0.000096\n",
      "PLTR   0.000712  0.002386  0.000067\n",
      "PSN.L  0.000096  0.000067  0.000450\n"
     ]
    }
   ],
   "source": [
    "\n",
    "def get_data(stocks, start, end):\n",
    "    stockInfo = yf.download(stocks, start=start, end=end)['Adj Close']  \n",
    "    returns = stockInfo.pct_change()\n",
    "    mean_returns = returns.mean()\n",
    "    covariance_matrix = returns.cov()\n",
    "    return mean_returns, covariance_matrix\n",
    "\n",
    "\n",
    "stocks = ['MTTR', 'PLTR', 'PSN.L']\n",
    "\n",
    "endDate = dt.datetime.now()\n",
    "startDate = endDate - dt.timedelta(days=100)\n",
    "\n",
    "x, y = get_data(stocks, startDate, endDate)\n"
   ],
   "metadata": {
    "collapsed": false,
    "ExecuteTime": {
     "start_time": "2023-08-07T22:57:28.915149Z"
    }
   },
   "id": "d086f190f0e7180c"
  },
  {
   "cell_type": "code",
   "execution_count": 37,
   "outputs": [],
   "source": [],
   "metadata": {
    "collapsed": false,
    "ExecuteTime": {
     "end_time": "2023-08-07T22:57:29.410395Z",
     "start_time": "2023-08-07T22:57:29.404764Z"
    }
   },
   "id": "ea961a02427ca5f"
  }
 ],
 "metadata": {
  "kernelspec": {
   "display_name": "Python 3",
   "language": "python",
   "name": "python3"
  },
  "language_info": {
   "codemirror_mode": {
    "name": "ipython",
    "version": 2
   },
   "file_extension": ".py",
   "mimetype": "text/x-python",
   "name": "python",
   "nbconvert_exporter": "python",
   "pygments_lexer": "ipython2",
   "version": "2.7.6"
  }
 },
 "nbformat": 4,
 "nbformat_minor": 5
}
