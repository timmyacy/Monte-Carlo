{
 "cells": [
  {
   "cell_type": "markdown",
   "source": [
    "# Monte Carlo Simulation"
   ],
   "metadata": {
    "collapsed": false
   },
   "id": "50803bdc6797976a"
  },
  {
   "cell_type": "markdown",
   "source": [
    "The Monte Carlo Simulation is used to model the probability of different outcomes in a process that cannot be easily predicted. It involves repeated sampling to obtain results.They are used to predict situations where processes where \n",
    "random variables could affect the outcome. This can then be used to further the risk involved in such a process. It can be deduced herein that this technique could be useful for the estimation of \n",
    "stochastic processes. It is a widely implemented approach and can be used to explain biological,physical or even chemical systems. An example of this can be seen from the [article](https://www.sciencedirect.com/science/article/pii/S0378437121002867) where a Monte Carlo Simulation was used to explain the proximity based infection of the COVID-19 Virus. In this case, I will be looking to explore how to use this technique to simulate a stock portfolio value over a certain period "
   ],
   "metadata": {
    "collapsed": false
   },
   "id": "a8d5dea4bc5df952"
  },
  {
   "cell_type": "markdown",
   "source": [
    "The stocks to be simulated are MatterPort Inc [MTTR](https://finance.yahoo.com/quote/MTTR) ,Palantir Technologies [PLTR](https://finance.yahoo.com/quote/PLTR) Persimmon Plc [PSN.L](https://finance.yahoo.com/quote/PSN.L)\n",
    "The API used here is the yfinance API to get the stock data"
   ],
   "metadata": {
    "collapsed": false
   },
   "id": "52d3f3363bf1f94f"
  }
 ],
 "metadata": {
  "kernelspec": {
   "display_name": "Python 3",
   "language": "python",
   "name": "python3"
  },
  "language_info": {
   "codemirror_mode": {
    "name": "ipython",
    "version": 2
   },
   "file_extension": ".py",
   "mimetype": "text/x-python",
   "name": "python",
   "nbconvert_exporter": "python",
   "pygments_lexer": "ipython2",
   "version": "2.7.6"
  }
 },
 "nbformat": 4,
 "nbformat_minor": 5
}
